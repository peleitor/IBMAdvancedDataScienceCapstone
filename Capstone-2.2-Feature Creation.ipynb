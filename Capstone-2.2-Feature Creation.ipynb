{
    "nbformat_minor": 1, 
    "cells": [
        {
            "execution_count": 1, 
            "cell_type": "code", 
            "metadata": {}, 
            "outputs": [
                {
                    "output_type": "stream", 
                    "name": "stdout", 
                    "text": "total 96\r\n-rw-------. 1 sa7d-5e452b87283280-4ab9c5f515a1 users 14856 Mar 26 20:58 analyticslib.py\r\ndrwx------. 2 sa7d-5e452b87283280-4ab9c5f515a1 users  4096 Mar 30 09:54 cleaned_data.csv\r\ndrwx------. 2 sa7d-5e452b87283280-4ab9c5f515a1 users  4096 Mar 30 13:11 cleaned_data_p.parquet\r\ndrwx------. 2 sa7d-5e452b87283280-4ab9c5f515a1 users  4096 Mar 30 12:55 created_features_p.parquet.20190330\r\n-rw-------. 1 sa7d-5e452b87283280-4ab9c5f515a1 users 11505 Mar 10 14:37 myfile.py\r\ndrwx------. 2 sa7d-5e452b87283280-4ab9c5f515a1 users  4096 Mar 26 20:59 __pycache__\r\ndrwx------. 2 sa7d-5e452b87283280-4ab9c5f515a1 users  4096 Mar 16 16:13 test.csv\r\n"
                }
            ], 
            "source": "!ls -l"
        }, 
        {
            "execution_count": 2, 
            "cell_type": "code", 
            "metadata": {}, 
            "outputs": [], 
            "source": "import analyticslib \nfrom analyticslib import DataSet"
        }, 
        {
            "source": "# Load Data\n- Load data from previous Data Cleansing stage", 
            "cell_type": "markdown", 
            "metadata": {}
        }, 
        {
            "execution_count": 3, 
            "cell_type": "code", 
            "metadata": {}, 
            "outputs": [
                {
                    "output_type": "stream", 
                    "name": "stdout", 
                    "text": "loading local parquet\n"
                }
            ], 
            "source": "dataMain = DataSet(spark_context=sc, filename=\"cleaned_data_p.parquet\", file_storage=\"local_parquet\", sampling_mode=\"ALL\")\n"
        }, 
        {
            "source": "# Feature Creation\n\n- Several features derived adjustments from Data Cleansing, namely:\n  - Imputing:\n    - ORIGIN_LOG2\n    - Adjusted versions of LoFtool, CADD_PHRED, CADD_RAW\n  - Several attributes were dropped out\n\n(Refer to Data Cleansing notebook)", 
            "cell_type": "markdown", 
            "metadata": {}
        }, 
        {
            "source": "# Feature Transformation\n ", 
            "cell_type": "markdown", 
            "metadata": {}
        }, 
        {
            "execution_count": 4, 
            "cell_type": "code", 
            "metadata": {}, 
            "outputs": [
                {
                    "output_type": "stream", 
                    "name": "stdout", 
                    "text": "root\n |-- CHROM: string (nullable = true)\n |-- POS: integer (nullable = true)\n |-- REF: string (nullable = true)\n |-- ALT: string (nullable = true)\n |-- AF_ESP: double (nullable = true)\n |-- AF_EXAC: double (nullable = true)\n |-- AF_TGP: double (nullable = true)\n |-- CLNDISDB: string (nullable = true)\n |-- CLNDISDBINCL: string (nullable = true)\n |-- CLNDN: string (nullable = true)\n |-- CLNDNINCL: string (nullable = true)\n |-- CLNHGVS: string (nullable = true)\n |-- CLNSIGINCL: string (nullable = true)\n |-- CLNVC: string (nullable = true)\n |-- MC: string (nullable = true)\n |-- CLASS: integer (nullable = true)\n |-- Allele: string (nullable = true)\n |-- Consequence: string (nullable = true)\n |-- IMPACT: string (nullable = true)\n |-- SYMBOL: string (nullable = true)\n |-- Feature_type: string (nullable = true)\n |-- Feature: string (nullable = true)\n |-- BIOTYPE: string (nullable = true)\n |-- EXON: string (nullable = true)\n |-- cDNA_position: string (nullable = true)\n |-- CDS_position: string (nullable = true)\n |-- Protein_position: string (nullable = true)\n |-- Amino_acids: string (nullable = true)\n |-- Codons: string (nullable = true)\n |-- STRAND: integer (nullable = true)\n |-- SIFT: string (nullable = true)\n |-- PolyPhen: string (nullable = true)\n |-- LoFtool: double (nullable = true)\n |-- CADD_PHRED: double (nullable = true)\n |-- CADD_RAW: double (nullable = true)\n |-- BLOSUM62: integer (nullable = true)\n |-- ORIGIN_LOG2: double (nullable = true)\n\n"
                }
            ], 
            "source": "dataMain.dataset.printSchema()"
        }, 
        {
            "execution_count": 5, 
            "cell_type": "code", 
            "metadata": {}, 
            "outputs": [
                {
                    "execution_count": 5, 
                    "metadata": {}, 
                    "data": {
                        "text/html": "<div>\n<style scoped>\n    .dataframe tbody tr th:only-of-type {\n        vertical-align: middle;\n    }\n\n    .dataframe tbody tr th {\n        vertical-align: top;\n    }\n\n    .dataframe thead th {\n        text-align: right;\n    }\n</style>\n<table border=\"1\" class=\"dataframe\">\n  <thead>\n    <tr style=\"text-align: right;\">\n      <th></th>\n      <th>CHROM</th>\n      <th>POS</th>\n      <th>REF</th>\n      <th>ALT</th>\n      <th>AF_ESP</th>\n      <th>AF_EXAC</th>\n      <th>AF_TGP</th>\n      <th>CLNDISDB</th>\n      <th>CLNDISDBINCL</th>\n      <th>CLNDN</th>\n      <th>CLNDNINCL</th>\n      <th>CLNHGVS</th>\n      <th>CLNSIGINCL</th>\n      <th>CLNVC</th>\n      <th>MC</th>\n    </tr>\n  </thead>\n  <tbody>\n    <tr>\n      <th>0</th>\n      <td>1</td>\n      <td>955563</td>\n      <td>G</td>\n      <td>C</td>\n      <td>0.0000</td>\n      <td>0.00000</td>\n      <td>0.0000</td>\n      <td>MedGen:C3808739,OMIM:615120|MedGen:CN169374</td>\n      <td>None</td>\n      <td>Myasthenic_syndrome,_congenital,_8|not_specified</td>\n      <td>None</td>\n      <td>NC_000001.10:g.955563G&gt;C</td>\n      <td>None</td>\n      <td>single_nucleotide_variant</td>\n      <td>SO:0001583|missense_variant</td>\n    </tr>\n    <tr>\n      <th>1</th>\n      <td>1</td>\n      <td>955597</td>\n      <td>G</td>\n      <td>T</td>\n      <td>0.0000</td>\n      <td>0.42418</td>\n      <td>0.2826</td>\n      <td>MedGen:CN169374</td>\n      <td>None</td>\n      <td>not_specified</td>\n      <td>None</td>\n      <td>NC_000001.10:g.955597G&gt;T</td>\n      <td>None</td>\n      <td>single_nucleotide_variant</td>\n      <td>SO:0001819|synonymous_variant</td>\n    </tr>\n    <tr>\n      <th>2</th>\n      <td>1</td>\n      <td>955619</td>\n      <td>G</td>\n      <td>C</td>\n      <td>0.0000</td>\n      <td>0.03475</td>\n      <td>0.0088</td>\n      <td>MedGen:C3808739,OMIM:615120|MedGen:CN169374</td>\n      <td>None</td>\n      <td>Myasthenic_syndrome,_congenital,_8|not_specified</td>\n      <td>None</td>\n      <td>NC_000001.10:g.955619G&gt;C</td>\n      <td>None</td>\n      <td>single_nucleotide_variant</td>\n      <td>SO:0001583|missense_variant</td>\n    </tr>\n    <tr>\n      <th>3</th>\n      <td>1</td>\n      <td>957640</td>\n      <td>C</td>\n      <td>T</td>\n      <td>0.0318</td>\n      <td>0.02016</td>\n      <td>0.0328</td>\n      <td>MedGen:C3808739,OMIM:615120|MedGen:CN169374</td>\n      <td>None</td>\n      <td>Myasthenic_syndrome,_congenital,_8|not_specified</td>\n      <td>None</td>\n      <td>NC_000001.10:g.957640C&gt;T</td>\n      <td>None</td>\n      <td>single_nucleotide_variant</td>\n      <td>SO:0001819|synonymous_variant</td>\n    </tr>\n    <tr>\n      <th>4</th>\n      <td>1</td>\n      <td>976059</td>\n      <td>C</td>\n      <td>T</td>\n      <td>0.0000</td>\n      <td>0.00022</td>\n      <td>0.0010</td>\n      <td>MedGen:CN169374</td>\n      <td>None</td>\n      <td>not_specified</td>\n      <td>None</td>\n      <td>NC_000001.10:g.976059C&gt;T</td>\n      <td>None</td>\n      <td>single_nucleotide_variant</td>\n      <td>SO:0001819|synonymous_variant</td>\n    </tr>\n    <tr>\n      <th>5</th>\n      <td>1</td>\n      <td>976554</td>\n      <td>C</td>\n      <td>G</td>\n      <td>0.0000</td>\n      <td>0.01494</td>\n      <td>0.0256</td>\n      <td>MedGen:C3808739,OMIM:615120|MedGen:CN169374</td>\n      <td>None</td>\n      <td>Myasthenic_syndrome,_congenital,_8|not_specified</td>\n      <td>None</td>\n      <td>NC_000001.10:g.976554C&gt;G</td>\n      <td>None</td>\n      <td>single_nucleotide_variant</td>\n      <td>SO:0001819|synonymous_variant</td>\n    </tr>\n    <tr>\n      <th>6</th>\n      <td>1</td>\n      <td>976563</td>\n      <td>C</td>\n      <td>T</td>\n      <td>0.0000</td>\n      <td>0.00135</td>\n      <td>0.0098</td>\n      <td>MedGen:C3808739,OMIM:615120|MedGen:CN169374</td>\n      <td>None</td>\n      <td>Myasthenic_syndrome,_congenital,_8|not_specified</td>\n      <td>None</td>\n      <td>NC_000001.10:g.976563C&gt;T</td>\n      <td>None</td>\n      <td>single_nucleotide_variant</td>\n      <td>SO:0001819|synonymous_variant</td>\n    </tr>\n    <tr>\n      <th>7</th>\n      <td>1</td>\n      <td>976598</td>\n      <td>C</td>\n      <td>T</td>\n      <td>0.0000</td>\n      <td>0.00626</td>\n      <td>0.0056</td>\n      <td>MedGen:C3808739,OMIM:615120|MedGen:CN169374</td>\n      <td>None</td>\n      <td>Myasthenic_syndrome,_congenital,_8|not_specified</td>\n      <td>None</td>\n      <td>NC_000001.10:g.976598C&gt;T</td>\n      <td>None</td>\n      <td>single_nucleotide_variant</td>\n      <td>SO:0001583|missense_variant</td>\n    </tr>\n    <tr>\n      <th>8</th>\n      <td>1</td>\n      <td>976629</td>\n      <td>C</td>\n      <td>T</td>\n      <td>0.0000</td>\n      <td>0.01004</td>\n      <td>0.0411</td>\n      <td>MedGen:C3808739,OMIM:615120|MedGen:CN169374</td>\n      <td>None</td>\n      <td>Myasthenic_syndrome,_congenital,_8|not_specified</td>\n      <td>None</td>\n      <td>NC_000001.10:g.976629C&gt;T</td>\n      <td>None</td>\n      <td>single_nucleotide_variant</td>\n      <td>SO:0001819|synonymous_variant</td>\n    </tr>\n    <tr>\n      <th>9</th>\n      <td>1</td>\n      <td>976963</td>\n      <td>A</td>\n      <td>G</td>\n      <td>0.0141</td>\n      <td>0.00461</td>\n      <td>0.0126</td>\n      <td>MedGen:C3808739,OMIM:615120|MedGen:CN169374</td>\n      <td>None</td>\n      <td>Myasthenic_syndrome,_congenital,_8|not_specified</td>\n      <td>None</td>\n      <td>NC_000001.10:g.976963A&gt;G</td>\n      <td>None</td>\n      <td>single_nucleotide_variant</td>\n      <td>SO:0001583|missense_variant</td>\n    </tr>\n  </tbody>\n</table>\n</div>", 
                        "text/plain": "  CHROM     POS REF ALT  AF_ESP  AF_EXAC  AF_TGP  \\\n0     1  955563   G   C  0.0000  0.00000  0.0000   \n1     1  955597   G   T  0.0000  0.42418  0.2826   \n2     1  955619   G   C  0.0000  0.03475  0.0088   \n3     1  957640   C   T  0.0318  0.02016  0.0328   \n4     1  976059   C   T  0.0000  0.00022  0.0010   \n5     1  976554   C   G  0.0000  0.01494  0.0256   \n6     1  976563   C   T  0.0000  0.00135  0.0098   \n7     1  976598   C   T  0.0000  0.00626  0.0056   \n8     1  976629   C   T  0.0000  0.01004  0.0411   \n9     1  976963   A   G  0.0141  0.00461  0.0126   \n\n                                      CLNDISDB CLNDISDBINCL  \\\n0  MedGen:C3808739,OMIM:615120|MedGen:CN169374         None   \n1                              MedGen:CN169374         None   \n2  MedGen:C3808739,OMIM:615120|MedGen:CN169374         None   \n3  MedGen:C3808739,OMIM:615120|MedGen:CN169374         None   \n4                              MedGen:CN169374         None   \n5  MedGen:C3808739,OMIM:615120|MedGen:CN169374         None   \n6  MedGen:C3808739,OMIM:615120|MedGen:CN169374         None   \n7  MedGen:C3808739,OMIM:615120|MedGen:CN169374         None   \n8  MedGen:C3808739,OMIM:615120|MedGen:CN169374         None   \n9  MedGen:C3808739,OMIM:615120|MedGen:CN169374         None   \n\n                                              CLNDN CLNDNINCL  \\\n0  Myasthenic_syndrome,_congenital,_8|not_specified      None   \n1                                     not_specified      None   \n2  Myasthenic_syndrome,_congenital,_8|not_specified      None   \n3  Myasthenic_syndrome,_congenital,_8|not_specified      None   \n4                                     not_specified      None   \n5  Myasthenic_syndrome,_congenital,_8|not_specified      None   \n6  Myasthenic_syndrome,_congenital,_8|not_specified      None   \n7  Myasthenic_syndrome,_congenital,_8|not_specified      None   \n8  Myasthenic_syndrome,_congenital,_8|not_specified      None   \n9  Myasthenic_syndrome,_congenital,_8|not_specified      None   \n\n                    CLNHGVS CLNSIGINCL                      CLNVC  \\\n0  NC_000001.10:g.955563G>C       None  single_nucleotide_variant   \n1  NC_000001.10:g.955597G>T       None  single_nucleotide_variant   \n2  NC_000001.10:g.955619G>C       None  single_nucleotide_variant   \n3  NC_000001.10:g.957640C>T       None  single_nucleotide_variant   \n4  NC_000001.10:g.976059C>T       None  single_nucleotide_variant   \n5  NC_000001.10:g.976554C>G       None  single_nucleotide_variant   \n6  NC_000001.10:g.976563C>T       None  single_nucleotide_variant   \n7  NC_000001.10:g.976598C>T       None  single_nucleotide_variant   \n8  NC_000001.10:g.976629C>T       None  single_nucleotide_variant   \n9  NC_000001.10:g.976963A>G       None  single_nucleotide_variant   \n\n                              MC  \n0    SO:0001583|missense_variant  \n1  SO:0001819|synonymous_variant  \n2    SO:0001583|missense_variant  \n3  SO:0001819|synonymous_variant  \n4  SO:0001819|synonymous_variant  \n5  SO:0001819|synonymous_variant  \n6  SO:0001819|synonymous_variant  \n7    SO:0001583|missense_variant  \n8  SO:0001819|synonymous_variant  \n9    SO:0001583|missense_variant  "
                    }, 
                    "output_type": "execute_result"
                }
            ], 
            "source": "pandasData = dataMain.dataset.limit(10).toPandas()\npandasData.iloc[:10, :15]\n\n"
        }, 
        {
            "execution_count": 6, 
            "cell_type": "code", 
            "metadata": {}, 
            "outputs": [
                {
                    "execution_count": 6, 
                    "metadata": {}, 
                    "data": {
                        "text/html": "<div>\n<style scoped>\n    .dataframe tbody tr th:only-of-type {\n        vertical-align: middle;\n    }\n\n    .dataframe tbody tr th {\n        vertical-align: top;\n    }\n\n    .dataframe thead th {\n        text-align: right;\n    }\n</style>\n<table border=\"1\" class=\"dataframe\">\n  <thead>\n    <tr style=\"text-align: right;\">\n      <th></th>\n      <th>CLASS</th>\n      <th>Allele</th>\n      <th>Consequence</th>\n      <th>IMPACT</th>\n      <th>SYMBOL</th>\n      <th>Feature_type</th>\n      <th>Feature</th>\n      <th>BIOTYPE</th>\n      <th>EXON</th>\n      <th>cDNA_position</th>\n      <th>CDS_position</th>\n      <th>Protein_position</th>\n      <th>Amino_acids</th>\n      <th>Codons</th>\n      <th>STRAND</th>\n      <th>SIFT</th>\n      <th>PolyPhen</th>\n      <th>LoFtool</th>\n      <th>CADD_PHRED</th>\n      <th>CADD_RAW</th>\n    </tr>\n  </thead>\n  <tbody>\n    <tr>\n      <th>0</th>\n      <td>0</td>\n      <td>C</td>\n      <td>missense_variant</td>\n      <td>MODERATE</td>\n      <td>AGRN</td>\n      <td>Transcript</td>\n      <td>NM_001305275.1</td>\n      <td>protein_coding</td>\n      <td>1/39</td>\n      <td>61</td>\n      <td>11</td>\n      <td>4</td>\n      <td>R/P</td>\n      <td>cGg/cCg</td>\n      <td>1</td>\n      <td></td>\n      <td>None</td>\n      <td>0.421</td>\n      <td>11.390</td>\n      <td>1.133255</td>\n    </tr>\n    <tr>\n      <th>1</th>\n      <td>0</td>\n      <td>T</td>\n      <td>synonymous_variant</td>\n      <td>LOW</td>\n      <td>AGRN</td>\n      <td>Transcript</td>\n      <td>NM_001305275.1</td>\n      <td>protein_coding</td>\n      <td>1/39</td>\n      <td>95</td>\n      <td>45</td>\n      <td>15</td>\n      <td>P</td>\n      <td>ccG/ccT</td>\n      <td>1</td>\n      <td></td>\n      <td>None</td>\n      <td>0.421</td>\n      <td>8.150</td>\n      <td>0.599088</td>\n    </tr>\n    <tr>\n      <th>2</th>\n      <td>1</td>\n      <td>C</td>\n      <td>missense_variant</td>\n      <td>MODERATE</td>\n      <td>AGRN</td>\n      <td>Transcript</td>\n      <td>NM_001305275.1</td>\n      <td>protein_coding</td>\n      <td>1/39</td>\n      <td>117</td>\n      <td>67</td>\n      <td>23</td>\n      <td>V/L</td>\n      <td>Gtc/Ctc</td>\n      <td>1</td>\n      <td></td>\n      <td>None</td>\n      <td>0.421</td>\n      <td>3.288</td>\n      <td>0.069819</td>\n    </tr>\n    <tr>\n      <th>3</th>\n      <td>0</td>\n      <td>T</td>\n      <td>synonymous_variant</td>\n      <td>LOW</td>\n      <td>AGRN</td>\n      <td>Transcript</td>\n      <td>NM_001305275.1</td>\n      <td>protein_coding</td>\n      <td>2/39</td>\n      <td>311</td>\n      <td>261</td>\n      <td>87</td>\n      <td>D</td>\n      <td>gaC/gaT</td>\n      <td>1</td>\n      <td></td>\n      <td>None</td>\n      <td>0.421</td>\n      <td>12.560</td>\n      <td>1.356499</td>\n    </tr>\n    <tr>\n      <th>4</th>\n      <td>1</td>\n      <td>T</td>\n      <td>synonymous_variant</td>\n      <td>LOW</td>\n      <td>AGRN</td>\n      <td>Transcript</td>\n      <td>NM_001305275.1</td>\n      <td>protein_coding</td>\n      <td>4/39</td>\n      <td>576</td>\n      <td>526</td>\n      <td>176</td>\n      <td>L</td>\n      <td>Ctg/Ttg</td>\n      <td>1</td>\n      <td></td>\n      <td>None</td>\n      <td>0.421</td>\n      <td>17.740</td>\n      <td>2.234711</td>\n    </tr>\n    <tr>\n      <th>5</th>\n      <td>0</td>\n      <td>G</td>\n      <td>splice_region_variant&amp;synonymous_variant</td>\n      <td>LOW</td>\n      <td>AGRN</td>\n      <td>Transcript</td>\n      <td>NM_001305275.1</td>\n      <td>protein_coding</td>\n      <td>5/39</td>\n      <td>779</td>\n      <td>729</td>\n      <td>243</td>\n      <td>G</td>\n      <td>ggC/ggG</td>\n      <td>1</td>\n      <td></td>\n      <td>None</td>\n      <td>0.421</td>\n      <td>3.552</td>\n      <td>0.094740</td>\n    </tr>\n    <tr>\n      <th>6</th>\n      <td>0</td>\n      <td>T</td>\n      <td>synonymous_variant</td>\n      <td>LOW</td>\n      <td>AGRN</td>\n      <td>Transcript</td>\n      <td>NM_001305275.1</td>\n      <td>protein_coding</td>\n      <td>5/39</td>\n      <td>788</td>\n      <td>738</td>\n      <td>246</td>\n      <td>D</td>\n      <td>gaC/gaT</td>\n      <td>1</td>\n      <td></td>\n      <td>None</td>\n      <td>0.421</td>\n      <td>9.846</td>\n      <td>0.862789</td>\n    </tr>\n    <tr>\n      <th>7</th>\n      <td>0</td>\n      <td>T</td>\n      <td>missense_variant</td>\n      <td>MODERATE</td>\n      <td>AGRN</td>\n      <td>Transcript</td>\n      <td>NM_001305275.1</td>\n      <td>protein_coding</td>\n      <td>5/39</td>\n      <td>823</td>\n      <td>773</td>\n      <td>258</td>\n      <td>T/I</td>\n      <td>aCc/aTc</td>\n      <td>1</td>\n      <td></td>\n      <td>None</td>\n      <td>0.421</td>\n      <td>24.000</td>\n      <td>4.293015</td>\n    </tr>\n    <tr>\n      <th>8</th>\n      <td>0</td>\n      <td>T</td>\n      <td>synonymous_variant</td>\n      <td>LOW</td>\n      <td>AGRN</td>\n      <td>Transcript</td>\n      <td>NM_001305275.1</td>\n      <td>protein_coding</td>\n      <td>5/39</td>\n      <td>854</td>\n      <td>804</td>\n      <td>268</td>\n      <td>A</td>\n      <td>gcC/gcT</td>\n      <td>1</td>\n      <td></td>\n      <td>None</td>\n      <td>0.421</td>\n      <td>13.510</td>\n      <td>1.537558</td>\n    </tr>\n    <tr>\n      <th>9</th>\n      <td>0</td>\n      <td>G</td>\n      <td>missense_variant</td>\n      <td>MODERATE</td>\n      <td>AGRN</td>\n      <td>Transcript</td>\n      <td>NM_001305275.1</td>\n      <td>protein_coding</td>\n      <td>6/39</td>\n      <td>1108</td>\n      <td>1058</td>\n      <td>353</td>\n      <td>Q/R</td>\n      <td>cAg/cGg</td>\n      <td>1</td>\n      <td></td>\n      <td>None</td>\n      <td>0.421</td>\n      <td>0.001</td>\n      <td>-2.588522</td>\n    </tr>\n  </tbody>\n</table>\n</div>", 
                        "text/plain": "   CLASS Allele                               Consequence    IMPACT SYMBOL  \\\n0      0      C                          missense_variant  MODERATE   AGRN   \n1      0      T                        synonymous_variant       LOW   AGRN   \n2      1      C                          missense_variant  MODERATE   AGRN   \n3      0      T                        synonymous_variant       LOW   AGRN   \n4      1      T                        synonymous_variant       LOW   AGRN   \n5      0      G  splice_region_variant&synonymous_variant       LOW   AGRN   \n6      0      T                        synonymous_variant       LOW   AGRN   \n7      0      T                          missense_variant  MODERATE   AGRN   \n8      0      T                        synonymous_variant       LOW   AGRN   \n9      0      G                          missense_variant  MODERATE   AGRN   \n\n  Feature_type         Feature         BIOTYPE  EXON cDNA_position  \\\n0   Transcript  NM_001305275.1  protein_coding  1/39            61   \n1   Transcript  NM_001305275.1  protein_coding  1/39            95   \n2   Transcript  NM_001305275.1  protein_coding  1/39           117   \n3   Transcript  NM_001305275.1  protein_coding  2/39           311   \n4   Transcript  NM_001305275.1  protein_coding  4/39           576   \n5   Transcript  NM_001305275.1  protein_coding  5/39           779   \n6   Transcript  NM_001305275.1  protein_coding  5/39           788   \n7   Transcript  NM_001305275.1  protein_coding  5/39           823   \n8   Transcript  NM_001305275.1  protein_coding  5/39           854   \n9   Transcript  NM_001305275.1  protein_coding  6/39          1108   \n\n  CDS_position Protein_position Amino_acids   Codons  STRAND SIFT PolyPhen  \\\n0           11                4         R/P  cGg/cCg       1          None   \n1           45               15           P  ccG/ccT       1          None   \n2           67               23         V/L  Gtc/Ctc       1          None   \n3          261               87           D  gaC/gaT       1          None   \n4          526              176           L  Ctg/Ttg       1          None   \n5          729              243           G  ggC/ggG       1          None   \n6          738              246           D  gaC/gaT       1          None   \n7          773              258         T/I  aCc/aTc       1          None   \n8          804              268           A  gcC/gcT       1          None   \n9         1058              353         Q/R  cAg/cGg       1          None   \n\n   LoFtool  CADD_PHRED  CADD_RAW  \n0    0.421      11.390  1.133255  \n1    0.421       8.150  0.599088  \n2    0.421       3.288  0.069819  \n3    0.421      12.560  1.356499  \n4    0.421      17.740  2.234711  \n5    0.421       3.552  0.094740  \n6    0.421       9.846  0.862789  \n7    0.421      24.000  4.293015  \n8    0.421      13.510  1.537558  \n9    0.421       0.001 -2.588522  "
                    }, 
                    "output_type": "execute_result"
                }
            ], 
            "source": "pandasData.iloc[:10, 15:35]"
        }, 
        {
            "execution_count": 7, 
            "cell_type": "code", 
            "metadata": {}, 
            "outputs": [
                {
                    "execution_count": 7, 
                    "metadata": {}, 
                    "data": {
                        "text/html": "<div>\n<style scoped>\n    .dataframe tbody tr th:only-of-type {\n        vertical-align: middle;\n    }\n\n    .dataframe tbody tr th {\n        vertical-align: top;\n    }\n\n    .dataframe thead th {\n        text-align: right;\n    }\n</style>\n<table border=\"1\" class=\"dataframe\">\n  <thead>\n    <tr style=\"text-align: right;\">\n      <th></th>\n      <th>BLOSUM62</th>\n      <th>ORIGIN_LOG2</th>\n    </tr>\n  </thead>\n  <tbody>\n    <tr>\n      <th>0</th>\n      <td>-2</td>\n      <td>0.0</td>\n    </tr>\n    <tr>\n      <th>1</th>\n      <td>0</td>\n      <td>0.0</td>\n    </tr>\n    <tr>\n      <th>2</th>\n      <td>1</td>\n      <td>0.0</td>\n    </tr>\n    <tr>\n      <th>3</th>\n      <td>0</td>\n      <td>0.0</td>\n    </tr>\n    <tr>\n      <th>4</th>\n      <td>0</td>\n      <td>0.0</td>\n    </tr>\n    <tr>\n      <th>5</th>\n      <td>0</td>\n      <td>0.0</td>\n    </tr>\n    <tr>\n      <th>6</th>\n      <td>0</td>\n      <td>0.0</td>\n    </tr>\n    <tr>\n      <th>7</th>\n      <td>-1</td>\n      <td>0.0</td>\n    </tr>\n    <tr>\n      <th>8</th>\n      <td>0</td>\n      <td>0.0</td>\n    </tr>\n    <tr>\n      <th>9</th>\n      <td>1</td>\n      <td>0.0</td>\n    </tr>\n  </tbody>\n</table>\n</div>", 
                        "text/plain": "   BLOSUM62  ORIGIN_LOG2\n0        -2          0.0\n1         0          0.0\n2         1          0.0\n3         0          0.0\n4         0          0.0\n5         0          0.0\n6         0          0.0\n7        -1          0.0\n8         0          0.0\n9         1          0.0"
                    }, 
                    "output_type": "execute_result"
                }
            ], 
            "source": "pandasData.iloc[:10, 35:45]"
        }, 
        {
            "execution_count": 8, 
            "cell_type": "code", 
            "metadata": {}, 
            "outputs": [], 
            "source": "from pyspark.ml.feature import StringIndexer\n\n#string index attributes\nindexerCHROM = StringIndexer(inputCol=\"CHROM\", outputCol=\"CHROM_idx\")\nindexerREF = StringIndexer(inputCol=\"REF\", outputCol=\"REF_idx\")\nindexerALT = StringIndexer(inputCol=\"ALT\", outputCol=\"ALT_idx\")\nindexerCLNDN = StringIndexer(inputCol=\"CLNDN\", outputCol=\"CLNDN_idx\")   #too many values, about 15% of total dataframe rows\nindexerConsequence = StringIndexer(inputCol=\"Consequence\", outputCol=\"Consequence_idx\")\nindexerIMPACT = StringIndexer(inputCol=\"IMPACT\", outputCol=\"IMPACT_idx\")\nindexerSYMBOL = StringIndexer(inputCol=\"SYMBOL\", outputCol=\"SYMBOL_idx\")\nindexerCLNHGVS = StringIndexer(inputCol=\"CLNHGVS\", outputCol=\"CLNHGVS_idx\")   #too many values, about 100% of total dataframe rows\nindexerCLNVC = StringIndexer(inputCol=\"CLNVC\", outputCol=\"CLNVC_idx\")\nindexerAllele = StringIndexer(inputCol=\"Allele\", outputCol=\"Allele_idx\")\nindexerSIFT = StringIndexer(inputCol=\"SIFT\", outputCol=\"SIFT_idx\")\n\n\ndf_idx = dataMain.dataset\nfor i in [indexerCHROM, indexerREF, indexerALT, indexerCLNDN, indexerConsequence, indexerIMPACT, indexerSYMBOL, indexerCLNHGVS, indexerCLNVC, indexerAllele, indexerSIFT]:\n     df_idx = i.fit(df_idx).transform(df_idx)"
        }, 
        {
            "execution_count": 9, 
            "cell_type": "code", 
            "metadata": {}, 
            "outputs": [
                {
                    "output_type": "stream", 
                    "name": "stdout", 
                    "text": "Total rows: 65188\nAttribute CHROM, count = 24\nAttribute REF, count = 866\nAttribute ALT, count = 458\nAttribute CLNDN, count = 9260\nAttribute Consequence, count = 48\nAttribute IMPACT, count = 4\nAttribute SYMBOL, count = 2329\nAttribute CLNHGVS, count = 65188\nAttribute CLNVC, count = 7\nAttribute Allele, count = 374\nAttribute SIFT, count = 5\n"
                }
            ], 
            "source": "print(\"Total rows: %d\" % (df_idx.count()))\n\nfor i in [\"CHROM\", \"REF\", \"ALT\", \"CLNDN\", \"Consequence\", \"IMPACT\", \"SYMBOL\", \"CLNHGVS\", \"CLNVC\", \"Allele\", \"SIFT\"]:\n    att = i + \"_idx\"\n    print(\"Attribute %s, count = %d\" % (i, df_idx.select(att).distinct().count()))\n"
        }, 
        {
            "execution_count": 10, 
            "cell_type": "code", 
            "metadata": {}, 
            "outputs": [], 
            "source": "# Generate One Hot Encoding\nfrom pyspark.ml.feature import OneHotEncoder\n\nencoderCHROM = OneHotEncoder(inputCol=\"CHROM_idx\", outputCol=\"CHROMVec\")\nencoderIMPACT = OneHotEncoder(inputCol=\"IMPACT_idx\", outputCol=\"IMPACTVec\")\nencoderCLNVC = OneHotEncoder(inputCol=\"CLNVC_idx\", outputCol=\"CLNVCVec\")\nencoderSIFT = OneHotEncoder(inputCol=\"SIFT_idx\", outputCol=\"SIFTVec\")\n\ndf_enc = df_idx\nfor e in [encoderCHROM, encoderIMPACT, encoderCLNVC, encoderSIFT]:\n     df_enc = e.transform(df_enc)\n\n"
        }, 
        {
            "execution_count": 11, 
            "cell_type": "code", 
            "metadata": {}, 
            "outputs": [
                {
                    "output_type": "stream", 
                    "name": "stdout", 
                    "text": "root\n |-- CHROM: string (nullable = true)\n |-- POS: integer (nullable = true)\n |-- REF: string (nullable = true)\n |-- ALT: string (nullable = true)\n |-- AF_ESP: double (nullable = true)\n |-- AF_EXAC: double (nullable = true)\n |-- AF_TGP: double (nullable = true)\n |-- CLNDISDB: string (nullable = true)\n |-- CLNDISDBINCL: string (nullable = true)\n |-- CLNDN: string (nullable = true)\n |-- CLNDNINCL: string (nullable = true)\n |-- CLNHGVS: string (nullable = true)\n |-- CLNSIGINCL: string (nullable = true)\n |-- CLNVC: string (nullable = true)\n |-- MC: string (nullable = true)\n |-- CLASS: integer (nullable = true)\n |-- Allele: string (nullable = true)\n |-- Consequence: string (nullable = true)\n |-- IMPACT: string (nullable = true)\n |-- SYMBOL: string (nullable = true)\n |-- Feature_type: string (nullable = true)\n |-- Feature: string (nullable = true)\n |-- BIOTYPE: string (nullable = true)\n |-- EXON: string (nullable = true)\n |-- cDNA_position: string (nullable = true)\n |-- CDS_position: string (nullable = true)\n |-- Protein_position: string (nullable = true)\n |-- Amino_acids: string (nullable = true)\n |-- Codons: string (nullable = true)\n |-- STRAND: integer (nullable = true)\n |-- SIFT: string (nullable = true)\n |-- PolyPhen: string (nullable = true)\n |-- LoFtool: double (nullable = true)\n |-- CADD_PHRED: double (nullable = true)\n |-- CADD_RAW: double (nullable = true)\n |-- BLOSUM62: integer (nullable = true)\n |-- ORIGIN_LOG2: double (nullable = true)\n |-- CHROM_idx: double (nullable = true)\n |-- REF_idx: double (nullable = true)\n |-- ALT_idx: double (nullable = true)\n |-- CLNDN_idx: double (nullable = true)\n |-- Consequence_idx: double (nullable = true)\n |-- IMPACT_idx: double (nullable = true)\n |-- SYMBOL_idx: double (nullable = true)\n |-- CLNHGVS_idx: double (nullable = true)\n |-- CLNVC_idx: double (nullable = true)\n |-- Allele_idx: double (nullable = true)\n |-- SIFT_idx: double (nullable = true)\n |-- CHROMVec: vector (nullable = true)\n |-- IMPACTVec: vector (nullable = true)\n |-- CLNVCVec: vector (nullable = true)\n |-- SIFTVec: vector (nullable = true)\n\n"
                }
            ], 
            "source": "df_enc.printSchema()"
        }, 
        {
            "execution_count": 12, 
            "cell_type": "code", 
            "metadata": {}, 
            "outputs": [
                {
                    "execution_count": 12, 
                    "metadata": {}, 
                    "data": {
                        "text/html": "<div>\n<style scoped>\n    .dataframe tbody tr th:only-of-type {\n        vertical-align: middle;\n    }\n\n    .dataframe tbody tr th {\n        vertical-align: top;\n    }\n\n    .dataframe thead th {\n        text-align: right;\n    }\n</style>\n<table border=\"1\" class=\"dataframe\">\n  <thead>\n    <tr style=\"text-align: right;\">\n      <th></th>\n      <th>CHROM</th>\n      <th>POS</th>\n      <th>REF</th>\n      <th>ALT</th>\n      <th>AF_ESP</th>\n      <th>AF_EXAC</th>\n      <th>AF_TGP</th>\n      <th>CLNDISDB</th>\n      <th>CLNDISDBINCL</th>\n      <th>CLNDN</th>\n      <th>...</th>\n      <th>IMPACT_idx</th>\n      <th>SYMBOL_idx</th>\n      <th>CLNHGVS_idx</th>\n      <th>CLNVC_idx</th>\n      <th>Allele_idx</th>\n      <th>SIFT_idx</th>\n      <th>CHROMVec</th>\n      <th>IMPACTVec</th>\n      <th>CLNVCVec</th>\n      <th>SIFTVec</th>\n    </tr>\n  </thead>\n  <tbody>\n    <tr>\n      <th>0</th>\n      <td>1</td>\n      <td>955563</td>\n      <td>G</td>\n      <td>C</td>\n      <td>0.0</td>\n      <td>0.00000</td>\n      <td>0.0000</td>\n      <td>MedGen:C3808739,OMIM:615120|MedGen:CN169374</td>\n      <td>None</td>\n      <td>Myasthenic_syndrome,_congenital,_8|not_specified</td>\n      <td>...</td>\n      <td>0.0</td>\n      <td>158.0</td>\n      <td>5853.0</td>\n      <td>0.0</td>\n      <td>3.0</td>\n      <td>0.0</td>\n      <td>(0.0, 0.0, 0.0, 1.0, 0.0, 0.0, 0.0, 0.0, 0.0, ...</td>\n      <td>(1.0, 0.0, 0.0)</td>\n      <td>(1.0, 0.0, 0.0, 0.0, 0.0, 0.0)</td>\n      <td>(1.0, 0.0, 0.0, 0.0)</td>\n    </tr>\n    <tr>\n      <th>1</th>\n      <td>1</td>\n      <td>955597</td>\n      <td>G</td>\n      <td>T</td>\n      <td>0.0</td>\n      <td>0.42418</td>\n      <td>0.2826</td>\n      <td>MedGen:CN169374</td>\n      <td>None</td>\n      <td>not_specified</td>\n      <td>...</td>\n      <td>1.0</td>\n      <td>158.0</td>\n      <td>20149.0</td>\n      <td>0.0</td>\n      <td>0.0</td>\n      <td>0.0</td>\n      <td>(0.0, 0.0, 0.0, 1.0, 0.0, 0.0, 0.0, 0.0, 0.0, ...</td>\n      <td>(0.0, 1.0, 0.0)</td>\n      <td>(1.0, 0.0, 0.0, 0.0, 0.0, 0.0)</td>\n      <td>(1.0, 0.0, 0.0, 0.0)</td>\n    </tr>\n    <tr>\n      <th>2</th>\n      <td>1</td>\n      <td>955619</td>\n      <td>G</td>\n      <td>C</td>\n      <td>0.0</td>\n      <td>0.03475</td>\n      <td>0.0088</td>\n      <td>MedGen:C3808739,OMIM:615120|MedGen:CN169374</td>\n      <td>None</td>\n      <td>Myasthenic_syndrome,_congenital,_8|not_specified</td>\n      <td>...</td>\n      <td>0.0</td>\n      <td>158.0</td>\n      <td>19953.0</td>\n      <td>0.0</td>\n      <td>3.0</td>\n      <td>0.0</td>\n      <td>(0.0, 0.0, 0.0, 1.0, 0.0, 0.0, 0.0, 0.0, 0.0, ...</td>\n      <td>(1.0, 0.0, 0.0)</td>\n      <td>(1.0, 0.0, 0.0, 0.0, 0.0, 0.0)</td>\n      <td>(1.0, 0.0, 0.0, 0.0)</td>\n    </tr>\n  </tbody>\n</table>\n<p>3 rows \u00d7 52 columns</p>\n</div>", 
                        "text/plain": "  CHROM     POS REF ALT  AF_ESP  AF_EXAC  AF_TGP  \\\n0     1  955563   G   C     0.0  0.00000  0.0000   \n1     1  955597   G   T     0.0  0.42418  0.2826   \n2     1  955619   G   C     0.0  0.03475  0.0088   \n\n                                      CLNDISDB CLNDISDBINCL  \\\n0  MedGen:C3808739,OMIM:615120|MedGen:CN169374         None   \n1                              MedGen:CN169374         None   \n2  MedGen:C3808739,OMIM:615120|MedGen:CN169374         None   \n\n                                              CLNDN          ...           \\\n0  Myasthenic_syndrome,_congenital,_8|not_specified          ...            \n1                                     not_specified          ...            \n2  Myasthenic_syndrome,_congenital,_8|not_specified          ...            \n\n  IMPACT_idx SYMBOL_idx CLNHGVS_idx CLNVC_idx Allele_idx  SIFT_idx  \\\n0        0.0      158.0      5853.0       0.0        3.0       0.0   \n1        1.0      158.0     20149.0       0.0        0.0       0.0   \n2        0.0      158.0     19953.0       0.0        3.0       0.0   \n\n                                            CHROMVec        IMPACTVec  \\\n0  (0.0, 0.0, 0.0, 1.0, 0.0, 0.0, 0.0, 0.0, 0.0, ...  (1.0, 0.0, 0.0)   \n1  (0.0, 0.0, 0.0, 1.0, 0.0, 0.0, 0.0, 0.0, 0.0, ...  (0.0, 1.0, 0.0)   \n2  (0.0, 0.0, 0.0, 1.0, 0.0, 0.0, 0.0, 0.0, 0.0, ...  (1.0, 0.0, 0.0)   \n\n                         CLNVCVec               SIFTVec  \n0  (1.0, 0.0, 0.0, 0.0, 0.0, 0.0)  (1.0, 0.0, 0.0, 0.0)  \n1  (1.0, 0.0, 0.0, 0.0, 0.0, 0.0)  (1.0, 0.0, 0.0, 0.0)  \n2  (1.0, 0.0, 0.0, 0.0, 0.0, 0.0)  (1.0, 0.0, 0.0, 0.0)  \n\n[3 rows x 52 columns]"
                    }, 
                    "output_type": "execute_result"
                }
            ], 
            "source": "df_enc.limit(3).toPandas()\n"
        }, 
        {
            "execution_count": 13, 
            "cell_type": "code", 
            "metadata": {}, 
            "outputs": [], 
            "source": "#dataMain.dataset = df_enc\n#dataMain.compute_stats()\n"
        }, 
        {
            "execution_count": 52, 
            "cell_type": "code", 
            "metadata": {}, 
            "outputs": [
                {
                    "execution_count": 52, 
                    "metadata": {}, 
                    "data": {
                        "text/html": "<div>\n<style scoped>\n    .dataframe tbody tr th:only-of-type {\n        vertical-align: middle;\n    }\n\n    .dataframe tbody tr th {\n        vertical-align: top;\n    }\n\n    .dataframe thead th {\n        text-align: right;\n    }\n</style>\n<table border=\"1\" class=\"dataframe\">\n  <thead>\n    <tr style=\"text-align: right;\">\n      <th></th>\n      <th>CHROM</th>\n      <th>POS</th>\n      <th>REF</th>\n      <th>ALT</th>\n      <th>AF_ESP</th>\n      <th>AF_EXAC</th>\n      <th>AF_TGP</th>\n      <th>CLNDISDB</th>\n      <th>CLNDISDBINCL</th>\n      <th>CLNDN</th>\n      <th>...</th>\n      <th>CLNVC_idx</th>\n      <th>Allele_idx</th>\n      <th>SIFT_idx</th>\n      <th>CHROMVec</th>\n      <th>IMPACTVec</th>\n      <th>CLNVCVec</th>\n      <th>SIFTVec</th>\n      <th>cadd_scores_vec</th>\n      <th>freqs_vec</th>\n      <th>blosum62_univec</th>\n    </tr>\n  </thead>\n  <tbody>\n    <tr>\n      <th>0</th>\n      <td>1</td>\n      <td>955563</td>\n      <td>G</td>\n      <td>C</td>\n      <td>0.0</td>\n      <td>0.00000</td>\n      <td>0.0000</td>\n      <td>MedGen:C3808739,OMIM:615120|MedGen:CN169374</td>\n      <td>None</td>\n      <td>Myasthenic_syndrome,_congenital,_8|not_specified</td>\n      <td>...</td>\n      <td>0.0</td>\n      <td>3.0</td>\n      <td>0.0</td>\n      <td>(0.0, 0.0, 0.0, 1.0, 0.0, 0.0, 0.0, 0.0, 0.0, ...</td>\n      <td>(1.0, 0.0, 0.0)</td>\n      <td>(1.0, 0.0, 0.0, 0.0, 0.0, 0.0)</td>\n      <td>(1.0, 0.0, 0.0, 0.0)</td>\n      <td>[11.39, 1.133255]</td>\n      <td>(0.0, 0.0, 0.0)</td>\n      <td>[-2.0]</td>\n    </tr>\n    <tr>\n      <th>1</th>\n      <td>1</td>\n      <td>955597</td>\n      <td>G</td>\n      <td>T</td>\n      <td>0.0</td>\n      <td>0.42418</td>\n      <td>0.2826</td>\n      <td>MedGen:CN169374</td>\n      <td>None</td>\n      <td>not_specified</td>\n      <td>...</td>\n      <td>0.0</td>\n      <td>0.0</td>\n      <td>0.0</td>\n      <td>(0.0, 0.0, 0.0, 1.0, 0.0, 0.0, 0.0, 0.0, 0.0, ...</td>\n      <td>(0.0, 1.0, 0.0)</td>\n      <td>(1.0, 0.0, 0.0, 0.0, 0.0, 0.0)</td>\n      <td>(1.0, 0.0, 0.0, 0.0)</td>\n      <td>[8.15, 0.599088]</td>\n      <td>[0.0, 0.42418, 0.2826]</td>\n      <td>[0.0]</td>\n    </tr>\n  </tbody>\n</table>\n<p>2 rows \u00d7 55 columns</p>\n</div>", 
                        "text/plain": "  CHROM     POS REF ALT  AF_ESP  AF_EXAC  AF_TGP  \\\n0     1  955563   G   C     0.0  0.00000  0.0000   \n1     1  955597   G   T     0.0  0.42418  0.2826   \n\n                                      CLNDISDB CLNDISDBINCL  \\\n0  MedGen:C3808739,OMIM:615120|MedGen:CN169374         None   \n1                              MedGen:CN169374         None   \n\n                                              CLNDN       ...       CLNVC_idx  \\\n0  Myasthenic_syndrome,_congenital,_8|not_specified       ...             0.0   \n1                                     not_specified       ...             0.0   \n\n  Allele_idx SIFT_idx                                           CHROMVec  \\\n0        3.0      0.0  (0.0, 0.0, 0.0, 1.0, 0.0, 0.0, 0.0, 0.0, 0.0, ...   \n1        0.0      0.0  (0.0, 0.0, 0.0, 1.0, 0.0, 0.0, 0.0, 0.0, 0.0, ...   \n\n         IMPACTVec                        CLNVCVec               SIFTVec  \\\n0  (1.0, 0.0, 0.0)  (1.0, 0.0, 0.0, 0.0, 0.0, 0.0)  (1.0, 0.0, 0.0, 0.0)   \n1  (0.0, 1.0, 0.0)  (1.0, 0.0, 0.0, 0.0, 0.0, 0.0)  (1.0, 0.0, 0.0, 0.0)   \n\n     cadd_scores_vec               freqs_vec blosum62_univec  \n0  [11.39, 1.133255]         (0.0, 0.0, 0.0)          [-2.0]  \n1   [8.15, 0.599088]  [0.0, 0.42418, 0.2826]           [0.0]  \n\n[2 rows x 55 columns]"
                    }, 
                    "output_type": "execute_result"
                }
            ], 
            "source": "from pyspark.ml.linalg import Vectors\nfrom pyspark.ml.feature import VectorAssembler\n\nvectorAssemblerScores = VectorAssembler(inputCols=[\"CADD_PHRED\",\"CADD_RAW\"],\n                                  outputCol=\"cadd_scores_vec\")\n\nvectorAssemblerFrequencies = VectorAssembler(inputCols=[\"AF_ESP\",\"AF_EXAC\",\"AF_TGP\"], outputCol=\"freqs_vec\")\n\nvectorAssemblerBlosum = VectorAssembler(inputCols=[\"BLOSUM62\"], outputCol=\"blosum62_univec\")\n\ndf_vec0 = vectorAssemblerScores.transform(df_enc)\n\ndf_vec1 = vectorAssemblerFrequencies.transform(df_vec0)\n\ndf_vec = vectorAssemblerBlosum.transform(df_vec1)\n\ndf_vec.limit(2).toPandas()\n"
        }, 
        {
            "execution_count": 53, 
            "cell_type": "code", 
            "metadata": {}, 
            "outputs": [], 
            "source": "from pyspark.ml.feature import Normalizer\nfrom pyspark.ml.linalg import Vectors\n\nnormalizer = Normalizer(inputCol=\"blosum62_univec\", outputCol=\"BLOSUM62_norm\", p=1.0)\ndf_norm = normalizer.transform(df_vec)"
        }, 
        {
            "execution_count": 56, 
            "cell_type": "code", 
            "metadata": {}, 
            "outputs": [], 
            "source": "col_selection = [\"cadd_scores_vec\", \"freqs_vec\", \"CLASS\", \"STRAND\", \"LoFtool\", \"BLOSUM62_norm\", \"ORIGIN_LOG2\", \"CHROMVec\", \"IMPACTVec\", \"CLNVCVec\", \"SIFTVec\", \"PolyPhen\"]\n\ndataMain.dataset = df_norm.select(col_selection)"
        }, 
        {
            "execution_count": 57, 
            "cell_type": "code", 
            "metadata": {}, 
            "outputs": [], 
            "source": "#dataMain.plot_hist_list([\"CLASS\", \"STRAND\", \"LoFtool\", \"BLOSUM62_norm\", \"ORIGIN_LOG2\", \"PolyPhen\"])\n"
        }, 
        {
            "source": "## Write Data", 
            "cell_type": "markdown", 
            "metadata": {}
        }, 
        {
            "execution_count": 58, 
            "cell_type": "code", 
            "metadata": {}, 
            "outputs": [
                {
                    "output_type": "stream", 
                    "name": "stdout", 
                    "text": "analyticslib.py   cleaned_data_p.parquet\t       myfile.py    test.csv\r\ncleaned_data.csv  created_features_p.parquet.20190330  __pycache__\r\n"
                }
            ], 
            "source": "!ls"
        }, 
        {
            "execution_count": 109, 
            "cell_type": "code", 
            "metadata": {}, 
            "outputs": [], 
            "source": "dataMain.dataset = dataMain.dataset.filter(\"PolyPhen is not null and PolyPhen<>'unknown'\")"
        }, 
        {
            "execution_count": 110, 
            "cell_type": "code", 
            "metadata": {}, 
            "outputs": [
                {
                    "output_type": "stream", 
                    "name": "stdout", 
                    "text": "+-----------------+--------------------+-----+------+-------+-------------+-----------+--------------+-------------+-------------+-------------+-----------------+\n|  cadd_scores_vec|           freqs_vec|CLASS|STRAND|LoFtool|BLOSUM62_norm|ORIGIN_LOG2|      CHROMVec|    IMPACTVec|     CLNVCVec|      SIFTVec|         PolyPhen|\n+-----------------+--------------------+-----+------+-------+-------------+-----------+--------------+-------------+-------------+-------------+-----------------+\n|[1.053,-0.208682]|[0.0771,0.1002,0....|    0|     1|  0.157|        [1.0]|       -1.0|(23,[3],[1.0])|(3,[0],[1.0])|(6,[0],[1.0])|(4,[2],[1.0])|           benign|\n|  [25.4,5.124879]|    [0.0,1.3E-4,0.0]|    0|     1|  0.157|       [-1.0]|        0.0|(23,[3],[1.0])|(3,[0],[1.0])|(6,[0],[1.0])|(4,[1],[1.0])|probably_damaging|\n|  [28.6,6.173747]|           (3,[],[])|    1|     1|  0.095|       [-1.0]|        0.0|(23,[3],[1.0])|(3,[0],[1.0])|(6,[0],[1.0])|(4,[1],[1.0])|probably_damaging|\n|  [31.0,6.517838]|           (3,[],[])|    0|    -1|  0.157|       [-1.0]|       -1.0|(23,[3],[1.0])|(3,[0],[1.0])|(6,[0],[1.0])|    (4,[],[])|           benign|\n|  [28.1,6.061752]|    [0.0,1.0E-5,0.0]|    1|    -1|  0.157|       [-1.0]|       -1.0|(23,[3],[1.0])|(3,[0],[1.0])|(6,[0],[1.0])|(4,[1],[1.0])|probably_damaging|\n| [15.61,1.904164]|           (3,[],[])|    0|     1| 0.0118|        [1.0]|        0.0|(23,[3],[1.0])|(3,[0],[1.0])|(6,[0],[1.0])|(4,[2],[1.0])|           benign|\n|  [24.5,4.618606]|[4.0E-4,2.7E-4,4....|    0|    -1|  0.234|        [0.0]|        0.0|(23,[3],[1.0])|(3,[0],[1.0])|(6,[0],[1.0])|(4,[1],[1.0])|           benign|\n|  [16.87,2.10256]|[0.0209,0.01908,0...|    0|    -1|  0.234|        [0.0]|        0.0|(23,[3],[1.0])|(3,[0],[1.0])|(6,[0],[1.0])|(4,[2],[1.0])|possibly_damaging|\n| [7.224,0.473363]|[0.0062,0.00206,0...|    1|    -1|  0.234|        [1.0]|        0.0|(23,[3],[1.0])|(3,[0],[1.0])|(6,[0],[1.0])|(4,[2],[1.0])|           benign|\n| [5.916,0.323159]|  [0.0,3.4E-4,0.001]|    0|    -1|  0.234|        [0.0]|        0.0|(23,[3],[1.0])|(3,[0],[1.0])|(6,[0],[1.0])|(4,[2],[1.0])|           benign|\n| [4.575,0.190192]| [0.0,3.4E-4,6.0E-4]|    0|    -1|  0.234|       [-1.0]|        0.0|(23,[3],[1.0])|(3,[0],[1.0])|(6,[0],[1.0])|(4,[2],[1.0])|           benign|\n|  [33.0,7.041631]|[0.0039,0.001,0.0...|    1|    -1|  0.021|        [1.0]|        0.0|(23,[3],[1.0])|(3,[0],[1.0])|(6,[0],[1.0])|(4,[1],[1.0])|probably_damaging|\n|  [23.0,3.423864]|[0.0018,0.00129,6...|    1|    -1|  0.021|        [0.0]|        0.0|(23,[3],[1.0])|(3,[0],[1.0])|(6,[0],[1.0])|(4,[1],[1.0])|probably_damaging|\n|  [27.2,5.819138]|[1.0E-4,1.8E-4,2....|    1|    -1|  0.021|       [-1.0]|        0.0|(23,[3],[1.0])|(3,[0],[1.0])|(6,[0],[1.0])|(4,[1],[1.0])|possibly_damaging|\n|  [25.4,5.118405]|[4.0E-4,2.8E-4,2....|    0|    -1|  0.021|       [-1.0]|        0.0|(23,[3],[1.0])|(3,[0],[1.0])|(6,[0],[1.0])|(4,[1],[1.0])|probably_damaging|\n|  [22.8,3.225157]|           (3,[],[])|    0|    -1|  0.021|        [1.0]|        0.0|(23,[3],[1.0])|(3,[0],[1.0])|(6,[0],[1.0])|(4,[1],[1.0])|           benign|\n|  [25.9,5.381148]|           (3,[],[])|    0|    -1|  0.021|       [-1.0]|        0.0|(23,[3],[1.0])|(3,[0],[1.0])|(6,[0],[1.0])|(4,[1],[1.0])|probably_damaging|\n| [7.529,0.512985]|[5.0E-4,3.7E-4,8....|    1|    -1|  0.021|        [0.0]|        0.0|(23,[3],[1.0])|(3,[0],[1.0])|(6,[0],[1.0])|(4,[2],[1.0])|           benign|\n|   [22.1,2.96965]|[0.0045,0.00231,0...|    0|    -1|  0.021|       [-1.0]|       -1.0|(23,[3],[1.0])|(3,[0],[1.0])|(6,[0],[1.0])|(4,[1],[1.0])|           benign|\n|  [26.1,5.430178]|[0.0019,0.00267,0...|    1|    -1|  0.021|       [-1.0]|       -1.0|(23,[3],[1.0])|(3,[0],[1.0])|(6,[0],[1.0])|(4,[1],[1.0])|probably_damaging|\n+-----------------+--------------------+-----+------+-------+-------------+-----------+--------------+-------------+-------------+-------------+-----------------+\nonly showing top 20 rows\n\n"
                }
            ], 
            "source": "dataMain.dataset.show()"
        }, 
        {
            "execution_count": 111, 
            "cell_type": "code", 
            "metadata": {}, 
            "outputs": [], 
            "source": "dataMain.dataset.write.mode(\"overwrite\").parquet(\"created_features_p.parquet\")"
        }, 
        {
            "source": "## Write Balanced Data", 
            "cell_type": "markdown", 
            "metadata": {}
        }, 
        {
            "source": "- Because PolyPhen is often missing, and is also unbalanced, we will generate an oversample", 
            "cell_type": "markdown", 
            "metadata": {}
        }, 
        {
            "execution_count": 97, 
            "cell_type": "code", 
            "metadata": {}, 
            "outputs": [], 
            "source": "#dataMain.dataset.filter(\"PolyPhen is not null\").show()"
        }, 
        {
            "execution_count": 98, 
            "cell_type": "code", 
            "metadata": {}, 
            "outputs": [], 
            "source": "df = dataMain.dataset.filter(\"PolyPhen is not null and PolyPhen<>'unknown'\")\n\n#df = df0.na.fill({'BLOSUM62_norm':0})\n"
        }, 
        {
            "execution_count": 99, 
            "cell_type": "code", 
            "metadata": {}, 
            "outputs": [], 
            "source": "df.createOrReplaceTempView(\"tmp_df\")"
        }, 
        {
            "execution_count": 100, 
            "cell_type": "code", 
            "metadata": {}, 
            "outputs": [
                {
                    "output_type": "stream", 
                    "name": "stdout", 
                    "text": "+-----------------+-----+\n|         PolyPhen|  cnt|\n+-----------------+-----+\n|           benign|13329|\n|possibly_damaging| 3932|\n|probably_damaging| 7531|\n+-----------------+-----+\n\n"
                }
            ], 
            "source": "spark.sql(\"select PolyPhen, count(*) as cnt from tmp_df group by 1\").show()"
        }, 
        {
            "execution_count": 101, 
            "cell_type": "code", 
            "metadata": {}, 
            "outputs": [
                {
                    "execution_count": 101, 
                    "metadata": {}, 
                    "data": {
                        "text/plain": "3"
                    }, 
                    "output_type": "execute_result"
                }
            ], 
            "source": "spark.sql(\"select PolyPhen, count(*) as cnt from tmp_df group by 1\").count()"
        }, 
        {
            "execution_count": 102, 
            "cell_type": "code", 
            "metadata": {}, 
            "outputs": [], 
            "source": "fraction = 3932/13329\ndf_add1 = df.filter(\"PolyPhen = 'benign'\").sample(False, fraction)"
        }, 
        {
            "execution_count": 103, 
            "cell_type": "code", 
            "metadata": {}, 
            "outputs": [], 
            "source": "fraction = 1.0\ndf_add2 = df.filter(\"PolyPhen = 'possibly_damaging'\").sample(False, fraction)"
        }, 
        {
            "execution_count": 104, 
            "cell_type": "code", 
            "metadata": {}, 
            "outputs": [], 
            "source": "fraction = 3932/7531\ndf_add3 = df.filter(\"PolyPhen = 'probably_damaging'\").sample(False, fraction)"
        }, 
        {
            "execution_count": 105, 
            "cell_type": "code", 
            "metadata": {}, 
            "outputs": [], 
            "source": "df_concat = df_add1.union(df_add2).union(df_add3)"
        }, 
        {
            "execution_count": 106, 
            "cell_type": "code", 
            "metadata": {}, 
            "outputs": [
                {
                    "output_type": "stream", 
                    "name": "stdout", 
                    "text": "+-----------------+-----+\n|         PolyPhen|count|\n+-----------------+-----+\n|           benign| 3861|\n|possibly_damaging| 3932|\n|probably_damaging| 3949|\n+-----------------+-----+\n\n"
                }
            ], 
            "source": "df_concat.groupBy(\"PolyPhen\").count().show()"
        }, 
        {
            "execution_count": 115, 
            "cell_type": "code", 
            "metadata": {}, 
            "outputs": [], 
            "source": "df_concat.write.mode(\"overwrite\").parquet(\"created_features_p_balanced.parquet\")"
        }, 
        {
            "execution_count": 116, 
            "cell_type": "code", 
            "metadata": {}, 
            "outputs": [
                {
                    "execution_count": 116, 
                    "metadata": {}, 
                    "data": {
                        "text/plain": "11742"
                    }, 
                    "output_type": "execute_result"
                }
            ], 
            "source": "df_concat.count()"
        }, 
        {
            "execution_count": null, 
            "cell_type": "code", 
            "metadata": {}, 
            "outputs": [], 
            "source": ""
        }
    ], 
    "metadata": {
        "kernelspec": {
            "display_name": "Python 3.5 with Spark 2.1", 
            "name": "python3-spark21", 
            "language": "python"
        }, 
        "language_info": {
            "mimetype": "text/x-python", 
            "nbconvert_exporter": "python", 
            "version": "3.5.4", 
            "name": "python", 
            "file_extension": ".py", 
            "pygments_lexer": "ipython3", 
            "codemirror_mode": {
                "version": 3, 
                "name": "ipython"
            }
        }
    }, 
    "nbformat": 4
}