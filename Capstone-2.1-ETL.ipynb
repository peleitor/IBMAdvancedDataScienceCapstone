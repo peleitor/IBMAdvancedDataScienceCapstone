{
    "nbformat_minor": 1, 
    "cells": [
        {
            "execution_count": 1, 
            "cell_type": "code", 
            "metadata": {}, 
            "outputs": [], 
            "source": "import analyticslib \nfrom analyticslib import DataSet\n"
        }, 
        {
            "source": "# Load Data", 
            "cell_type": "markdown", 
            "metadata": {}
        }, 
        {
            "execution_count": 2, 
            "cell_type": "code", 
            "metadata": {}, 
            "outputs": [
                {
                    "output_type": "stream", 
                    "name": "stdout", 
                    "text": "loading COS csv\n"
                }
            ], 
            "source": "# get all rows\ndataMain = DataSet(spark_context=sc, filename=\"clinvar_conflicting.csv\", sampling_mode=\"ALL\")\n"
        }, 
        {
            "execution_count": 3, 
            "cell_type": "code", 
            "metadata": {}, 
            "outputs": [], 
            "source": "dataMain.compute_stats()"
        }, 
        {
            "source": "# Data Cleansing\n\n ", 
            "cell_type": "markdown", 
            "metadata": {}
        }, 
        {
            "execution_count": 4, 
            "cell_type": "code", 
            "metadata": {}, 
            "outputs": [], 
            "source": "dataMain.dataset.createOrReplaceTempView(\"tmp_dataset\")"
        }, 
        {
            "execution_count": 5, 
            "cell_type": "code", 
            "metadata": {}, 
            "outputs": [], 
            "source": "total_rows = dataMain.dataset.count()"
        }, 
        {
            "execution_count": 6, 
            "cell_type": "code", 
            "metadata": {}, 
            "outputs": [], 
            "source": "# Analyze missing BLOSUM62\nblossom62_rows = spark.sql(\"select count (*) as cnt from tmp_dataset where BLOSUM62 is not null\").head()[0]"
        }, 
        {
            "execution_count": 7, 
            "cell_type": "code", 
            "metadata": {}, 
            "outputs": [], 
            "source": "blossom62_with_missense_rows = spark.sql(\"select count (*) as cnt from tmp_dataset where BLOSUM62 is not null and Consequence like '%missense%'\").head()[0]"
        }, 
        {
            "execution_count": 8, 
            "cell_type": "code", 
            "metadata": {}, 
            "outputs": [
                {
                    "output_type": "stream", 
                    "name": "stdout", 
                    "text": "Total rows = 65188, blossom62 rows = 25593, blossom62 with missense = 25499, blossom62/missense ratio = 99 %\n"
                }
            ], 
            "source": "print(\"Total rows = %d, blossom62 rows = %d, blossom62 with missense = %d, blossom62/missense ratio = %d %%\" % (total_rows, blossom62_rows, blossom62_with_missense_rows, blossom62_with_missense_rows / blossom62_rows *100 ))"
        }, 
        {
            "execution_count": 9, 
            "cell_type": "code", 
            "metadata": {}, 
            "outputs": [], 
            "source": "# Analyze missing scores\nmissing_score_rows = spark.sql(\"select count (*) as cnt from tmp_dataset where LofTool is null or CADD_PHRED is null or CADD_RAW is null\").head()[0]"
        }, 
        {
            "execution_count": 10, 
            "cell_type": "code", 
            "metadata": {}, 
            "outputs": [
                {
                    "execution_count": 10, 
                    "metadata": {}, 
                    "data": {
                        "text/plain": "0.08042891329692581"
                    }, 
                    "output_type": "execute_result"
                }
            ], 
            "source": "missing_score_rows / total_rows"
        }, 
        {
            "source": "## Missing values \n\n### From Data Exploration:\n\n#### Attributes with high rate of missing values\n\nSeveral fields almost do not have values:\n- MOTIF_NAME, MOTIF_POS, HIGH_INF_POS, MOTIF_SCORE_CHANGE, SSR, DISTANCE\n  - They will be discarded.\n\nMany missing values (>50%) for: \n\n- CLNVI \n  - It will be discarded, since it just represents the source of the data\n\n- INTRON \n  - It will be discarded, since is a very scarce attribute with no conclusive information (number of introns).\n\n- BAM_EDIT \n  - It will be discarded, since it just represents  a processing indicator (BAM file processing)\n\n\n#### Treatment of missing values\n\n- ORIGIN \n  - This value is a roughly power of 2, and has a number of missings.\n  - It will be transformed using log base 2, and missings will be replaced with -1, which will stand for 'not reported' in our model.\n\n- LoFtool, CADD_PHRED, CADD_RAW\n  - In 8% of the rows, one of this scoring values is missing. We will replace this rows with the correspondent median.\n\n- String missing values that will be sent to empty string:\n  - 'SYMBOL':'', 'CLNHGVS':'', 'CLNVC':'', 'Allele':'', 'SIFT': ''\n\n#### Cross validated attributes\n\n- BLOSUM62\n  - Although it has many missings, this attribute will be retained, since it is present for almost all 'missense' variants (and only those ones); this is expected.", 
            "cell_type": "markdown", 
            "metadata": {}
        }, 
        {
            "source": "## Potentially redundant attributes\n\n### From Data Exploration:\n- AF_ESP, AF_EXAC, AF_TGP are highly positively correlated\n- CADD_PHRED and CADD RAW are highly positively correlated\n\n", 
            "cell_type": "markdown", 
            "metadata": {}
        }, 
        {
            "source": "## Outliers Analysis\n\n\n", 
            "cell_type": "markdown", 
            "metadata": {}
        }, 
        {
            "execution_count": 11, 
            "cell_type": "code", 
            "metadata": {}, 
            "outputs": [], 
            "source": "new_data = dataMain.dataset.drop(\"MOTIF_NAME\", \"MOTIF_POS\", \"HIGH_INF_POS\", \"MOTIF_SCORE_CHANGE\", \"CLNVI\", \"INTRON\", \"BAM_EDIT\", \"SSR\", \"DISTANCE\")"
        }, 
        {
            "execution_count": 12, 
            "cell_type": "code", 
            "metadata": {}, 
            "outputs": [
                {
                    "execution_count": 12, 
                    "metadata": {}, 
                    "data": {
                        "text/plain": "pyspark.sql.dataframe.DataFrame"
                    }, 
                    "output_type": "execute_result"
                }
            ], 
            "source": "type(new_data)"
        }, 
        {
            "execution_count": 13, 
            "cell_type": "code", 
            "metadata": {}, 
            "outputs": [], 
            "source": "medians = spark.sql(\"select percentile_approx(LoFtool, 0.5) as mloft, percentile_approx(CADD_PHRED, 0.5) as mphred, percentile_approx(CADD_RAW, 0.5) as mraw from tmp_dataset\").head()"
        }, 
        {
            "execution_count": 14, 
            "cell_type": "code", 
            "metadata": {}, 
            "outputs": [], 
            "source": "loftool_median = medians[0]\ncadd_phred_median = medians[1]\ncadd_raw_median = medians[2]\n"
        }, 
        {
            "execution_count": 15, 
            "cell_type": "code", 
            "metadata": {}, 
            "outputs": [
                {
                    "execution_count": 15, 
                    "metadata": {}, 
                    "data": {
                        "text/plain": "0.157"
                    }, 
                    "output_type": "execute_result"
                }
            ], 
            "source": "loftool_median"
        }, 
        {
            "execution_count": 20, 
            "cell_type": "code", 
            "metadata": {}, 
            "outputs": [], 
            "source": "from pyspark.sql.functions import log, lit\n\n# estimate missing scores with median\nnew_data2 = new_data.na.fill({'ORIGIN':0, 'LoFtool':loftool_median, 'CADD_PHRED':cadd_phred_median, 'CADD_RAW':cadd_raw_median, 'CLNVC':'', 'BLOSUM62':0})\n\n# replace ORIGIN with is log2, or -1 if missing\n#new_data2.filter(\"ORIGIN>1\").withColumn(\"ORIGIN_LOG2\", log(\"ORIGIN\")/log(lit(2))).na.fill({\"ORIGIN_LOG2\":-1}).select(\"ORIGIN\", \"ORIGIN_LOG2\").show()\nnew_data3 = new_data2.withColumn(\"ORIGIN_LOG2\", log(\"ORIGIN\")/log(lit(2))).na.fill({\"ORIGIN_LOG2\":-1}).drop(\"ORIGIN\")\n\n# missing string values\nnew_data4 = new_data3.na.fill({'SYMBOL':' ', 'CLNHGVS':' ', 'CLNVC':' ', 'Allele':' ', 'SIFT': ' '})\n\n# get all rows\ndataMain.dataset = new_data4\n\ndataMain.compute_stats()"
        }, 
        {
            "source": "##### None outlier found with criteria < 5%\n- We will not remove these", 
            "cell_type": "markdown", 
            "metadata": {}
        }, 
        {
            "execution_count": 22, 
            "cell_type": "code", 
            "metadata": {}, 
            "outputs": [
                {
                    "output_type": "stream", 
                    "name": "stdout", 
                    "text": "Outlier ratio for POS is 0.000000 %\n"
                }, 
                {
                    "output_type": "display_data", 
                    "data": {
                        "image/png": "[encoded data removed]", 
                        "text/plain": "<matplotlib.figure.Figure at 0x7f4eac0c7438>"
                    }, 
                    "metadata": {}
                }, 
                {
                    "output_type": "stream", 
                    "name": "stdout", 
                    "text": "Outlier ratio for AF_ESP is 20.954777 %\n"
                }, 
                {
                    "output_type": "display_data", 
                    "data": {
                        "image/png": "[encoded data removed]", 
                        "text/plain": "<matplotlib.figure.Figure at 0x7f4ea91cff60>"
                    }, 
                    "metadata": {}
                }, 
                {
                    "output_type": "stream", 
                    "name": "stdout", 
                    "text": "Outlier ratio for AF_EXAC is 19.825735 %\n"
                }, 
                {
                    "output_type": "display_data", 
                    "data": {
                        "image/png": "[encoded data removed]", 
                        "text/plain": "<matplotlib.figure.Figure at 0x7f4e946550b8>"
                    }, 
                    "metadata": {}
                }, 
                {
                    "output_type": "stream", 
                    "name": "stdout", 
                    "text": "Outlier ratio for AF_TGP is 19.822667 %\n"
                }, 
                {
                    "output_type": "display_data", 
                    "data": {
                        "image/png": "[encoded data removed]", 
                        "text/plain": "<matplotlib.figure.Figure at 0x7f4eac0e5320>"
                    }, 
                    "metadata": {}
                }, 
                {
                    "output_type": "stream", 
                    "name": "stdout", 
                    "text": "Outlier ratio for LoFtool is 0.000000 %\n"
                }, 
                {
                    "output_type": "display_data", 
                    "data": {
                        "image/png": "[encoded data removed]", 
                        "text/plain": "<matplotlib.figure.Figure at 0x7f4eac0e5320>"
                    }, 
                    "metadata": {}
                }, 
                {
                    "output_type": "stream", 
                    "name": "stdout", 
                    "text": "Outlier ratio for CADD_PHRED is 0.000000 %\n"
                }, 
                {
                    "output_type": "display_data", 
                    "data": {
                        "image/png": "[encoded data removed]", 
                        "text/plain": "<matplotlib.figure.Figure at 0x7f4eac0e5320>"
                    }, 
                    "metadata": {}
                }, 
                {
                    "output_type": "stream", 
                    "name": "stdout", 
                    "text": "Outlier ratio for CADD_RAW is 0.062895 %\n"
                }, 
                {
                    "output_type": "display_data", 
                    "data": {
                        "image/png": "[encoded data removed]", 
                        "text/plain": "<matplotlib.figure.Figure at 0x7f4eac0e5320>"
                    }, 
                    "metadata": {}
                }
            ], 
            "source": "# Check for outliers using IQR method\nfor attr in [\"POS\", \"AF_ESP\", \"AF_EXAC\", \"AF_TGP\", \"LoFtool\", \"CADD_PHRED\", \"CADD_RAW\"]:\n    wo_outliers = dataMain.outliers_iqr(col=attr, error_margin=0, mode_outliers=True)\n    print(\"Outlier ratio for %s is %f %%\" % (attr, wo_outliers.count() / total_rows * 100))\n    dataMain.simple_plot(\"boxplot\", attr)\n        \n"
        }, 
        {
            "source": "# Write Data", 
            "cell_type": "markdown", 
            "metadata": {}
        }, 
        {
            "execution_count": 18, 
            "cell_type": "code", 
            "metadata": {}, 
            "outputs": [], 
            "source": "# Save to temporary storage\nfileref = \"cleaned_data.csv\"\n               \ndataMain.dataset.write.option(\"header\", True).mode(\"overwrite\").csv(fileref)"
        }, 
        {
            "execution_count": 23, 
            "cell_type": "code", 
            "metadata": {}, 
            "outputs": [], 
            "source": "dataMain.dataset.write.mode(\"overwrite\").parquet(\"cleaned_data_p.parquet\")"
        }, 
        {
            "execution_count": null, 
            "cell_type": "code", 
            "metadata": {}, 
            "outputs": [], 
            "source": ""
        }
    ], 
    "metadata": {
        "kernelspec": {
            "display_name": "Python 3.5 with Spark 2.1", 
            "name": "python3-spark21", 
            "language": "python"
        }, 
        "language_info": {
            "mimetype": "text/x-python", 
            "nbconvert_exporter": "python", 
            "version": "3.5.4", 
            "name": "python", 
            "file_extension": ".py", 
            "pygments_lexer": "ipython3", 
            "codemirror_mode": {
                "version": 3, 
                "name": "ipython"
            }
        }
    }, 
    "nbformat": 4
}